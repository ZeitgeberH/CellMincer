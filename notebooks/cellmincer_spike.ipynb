{
 "cells": [
  {
   "cell_type": "markdown",
   "metadata": {},
   "source": [
    "## Spike filtering"
   ]
  },
  {
   "cell_type": "code",
   "execution_count": 5,
   "metadata": {},
   "outputs": [],
   "source": [
    "%matplotlib inline\n",
    "\n",
    "import os\n",
    "import sys\n",
    "notebook_path = os.path.abspath('.')\n",
    "sources_path = os.path.abspath(os.path.join(notebook_path, '..'))\n",
    "sys.path.insert(0, sources_path)\n",
    "\n",
    "import matplotlib.pylab as plt\n",
    "import numpy as np\n",
    "import torch\n",
    "import logging\n",
    "import pickle\n",
    "\n",
    "from skimage.filters import threshold_otsu\n",
    "\n",
    "from cellmincer.opto_ws import \\\n",
    "    OptopatchBaseWorkspace\n",
    "\n",
    "from cellmincer.opto_utils import \\\n",
    "    rolling_circle_filter_np, \\\n",
    "    rolling_circle_filter_torch, \\\n",
    "    median_filter_torch\n",
    "\n",
    "device = torch.device(\"cuda\")\n",
    "dtype = torch.float32\n",
    "\n",
    "def new_fig(figsize=(15, 5)):\n",
    "    fig = plt.figure(figsize=figsize)\n",
    "    ax = plt.gca()\n",
    "    return fig, ax\n",
    "\n",
    "logger = logging.getLogger()\n",
    "log_info = logger.warning\n",
    "\n",
    "torch.backends.cudnn.enabled = True\n",
    "torch.backends.cudnn.benchmark = False"
   ]
  },
  {
   "cell_type": "code",
   "execution_count": 24,
   "metadata": {},
   "outputs": [],
   "source": [
    "# names\n",
    "opto_mov_prefixes = [\n",
    "    'D1_FOV3_W2_at135105',\n",
    "    'D4_FOV2_W2_at171603',\n",
    "    'D4_FOV3_W2_at172029',\n",
    "    'E3_FOV1_W2_at155440',\n",
    "    'F1_FOV2_W1_at143005'\n",
    "]\n",
    "\n",
    "model_prefix = 'rc1'\n",
    "denoised_opto_mov_path_list = [\n",
    "    f'/home/jupyter/mb-ml-dev-disk/data/Optopatch/denoised_data/{prefix}__{model_prefix}__denoised.npy'\n",
    "    for prefix in opto_mov_prefixes]\n",
    "\n",
    "output_path = '/home/jupyter/mb-ml-dev-disk/data/Optopatch/spike_data'\n",
    "\n",
    "if not os.path.exists(output_path):\n",
    "    os.mkdir(output_path)"
   ]
  },
  {
   "cell_type": "code",
   "execution_count": 52,
   "metadata": {},
   "outputs": [
    {
     "name": "stdout",
     "output_type": "stream",
     "text": [
      "median__order_5_zero_clipped\n"
     ]
    }
   ],
   "source": [
    "# specify spike filter (choices: 'rcf', 'median')\n",
    "spike_filter = 'median'\n",
    "\n",
    "# frame-to-frame time difference (in units of s)\n",
    "dt = 0.002\n",
    "\n",
    "# (RCF) circle radius in time (x) direction (in units of s)\n",
    "radius_time = 0.02\n",
    "\n",
    "# (RCF) circle radius in amplitude (y) direction\n",
    "radius_amplitude = 1.0\n",
    "\n",
    "# (MEDIAN) order\n",
    "median_filter_order = 5\n",
    "median_zero_clip = True\n",
    "\n",
    "if spike_filter == 'rcf':\n",
    "    suffix = f'{spike_filter}__{int(radius_time * 1000):d}ms'\n",
    "elif spike_filter == 'median':\n",
    "    suffix = f'{spike_filter}__order_{median_filter_order}'\n",
    "    if median_zero_clip:\n",
    "        suffix += '_zero_clipped'\n",
    "else:\n",
    "    raise ValueError()\n",
    "    \n",
    "print(suffix)"
   ]
  },
  {
   "cell_type": "code",
   "execution_count": 69,
   "metadata": {},
   "outputs": [
    {
     "name": "stderr",
     "output_type": "stream",
     "text": [
      "Loading movie from /home/jupyter/mb-ml-dev-disk/data/Optopatch/denoised_data/F1_FOV2_W1_at143005__rc1__denoised.npy ...\n"
     ]
    }
   ],
   "source": [
    "i_dataset = 4\n",
    "ws_base = OptopatchBaseWorkspace.from_npy(denoised_opto_mov_path_list[i_dataset], permutation=(0, 2, 1))\n",
    "\n",
    "if spike_filter == 'rcf':\n",
    "\n",
    "    t = torch.tensor(dt * np.arange(0, ws_base.n_frames), device=device, dtype=dtype)\n",
    "    raw_trace_xyt = torch.tensor(ws_base.movie_txy.transpose(-2, -1, -3), device=device, dtype=dtype)\n",
    "    bg_trace_xyt = rolling_circle_filter_torch(\n",
    "        t, raw_trace_xyt,\n",
    "        radius_x=radius_time,\n",
    "        radius_y=radius_amplitude,\n",
    "        log_progress=True,\n",
    "        log_every=500)\n",
    "    spike_txy = (raw_trace_xyt.cpu().numpy() - bg_trace_xyt.cpu().numpy()).transpose(-1, -3, -2)\n",
    "    \n",
    "elif spike_filter == 'median':\n",
    "    \n",
    "    spike_txy = median_filter_torch(\n",
    "        movie_ntxy=ws_base.movie_txy[None, ...],\n",
    "        detrending_func='median',\n",
    "        detrending_order=median_filter_order,\n",
    "        device=device,\n",
    "        dtype=dtype)[0, ...].cpu().numpy()\n",
    "    \n",
    "    if median_zero_clip:\n",
    "        spike_txy = np.maximum(0., spike_txy)"
   ]
  },
  {
   "cell_type": "code",
   "execution_count": 70,
   "metadata": {},
   "outputs": [],
   "source": [
    "np.save(\n",
    "    os.path.join(\n",
    "        output_path,\n",
    "        opto_mov_prefixes[i_dataset] + \"__\" + model_prefix + \"__\" + suffix + \".npy\"),\n",
    "    spike_txy.transpose(0, 2, 1))"
   ]
  },
  {
   "cell_type": "markdown",
   "metadata": {},
   "source": [
    "## Make spike movie"
   ]
  },
  {
   "cell_type": "code",
   "execution_count": 71,
   "metadata": {},
   "outputs": [],
   "source": [
    "import skvideo\n",
    "from skvideo import io as skio\n",
    "from matplotlib.colors import Normalize"
   ]
  },
  {
   "cell_type": "code",
   "execution_count": 72,
   "metadata": {},
   "outputs": [],
   "source": [
    "norm = Normalize(vmin=0, vmax=8., clip=True)\n",
    "normed_spike_txy = 255 * norm(spike_txy)[..., None]\n",
    "\n",
    "movie_out_path = os.path.join(\n",
    "    output_path,\n",
    "    opto_mov_prefixes[i_dataset] + \"__\" + model_prefix + \"__\" + suffix + \".avi\")\n",
    "\n",
    "writer = skio.FFmpegWriter(\n",
    "    movie_out_path,\n",
    "    outputdict={'-vcodec': 'rawvideo', '-pix_fmt': 'yuv420p', '-r': '60'})\n",
    "\n",
    "for i in range(4200, 4900):\n",
    "        writer.writeFrame(normed_spike_txy[i, ...].T)\n",
    "writer.close()"
   ]
  },
  {
   "cell_type": "markdown",
   "metadata": {},
   "source": [
    "## Exploration"
   ]
  },
  {
   "cell_type": "code",
   "execution_count": 34,
   "metadata": {},
   "outputs": [
    {
     "data": {
      "image/png": "[encoded data removed]",
      "text/plain": [
       "<Figure size 864x288 with 3 Axes>"
      ]
     },
     "metadata": {
      "needs_background": "light"
     },
     "output_type": "display_data"
    }
   ],
   "source": [
    "viz_pixels = [(393, 65), (490, 126)]\n",
    "\n",
    "i_viz = 1\n",
    "x0, y0 = viz_pixels[i_viz]\n",
    "\n",
    "t = dt * np.arange(0, ws_base.n_frames)\n",
    "raw_trace_t = ws_base.movie_txy[:, x0, y0]\n",
    "spike_trace_t = spike_txy[:, x0, y0]\n",
    "bg_trace_t = raw_trace_t - spike_trace_t\n",
    "\n",
    "fig, axs = plt.subplots(ncols=3, figsize=(12, 4))\n",
    "\n",
    "axs[0].plot(t, raw_trace_t, label='denoised')\n",
    "axs[0].set_xlim((0, 1.2))\n",
    "axs[0].set_ylim((-1, 5))\n",
    "axs[0].legend()\n",
    "axs[0].set_xlabel('time (s)')\n",
    "axs[0].set_ylabel('intensity')\n",
    "\n",
    "axs[1].plot(t, bg_trace_t, label='rolling circle')\n",
    "axs[1].set_xlim((0, 1.2))\n",
    "axs[1].set_ylim((-1, 5))\n",
    "axs[1].legend()\n",
    "axs[1].set_xlabel('time (s)')\n",
    "axs[1].set_ylabel('intensity')\n",
    "\n",
    "axs[2].plot(t, spike_trace_t, label='spikes') \n",
    "axs[2].set_xlim((0, 1.2))\n",
    "axs[2].set_ylim((-1, 5))\n",
    "axs[2].legend()\n",
    "axs[2].set_xlabel('time (s)')\n",
    "axs[2].set_ylabel('intensity')\n",
    "\n",
    "plt.tight_layout()\n",
    "# plt.savefig('./out/spikes_rolling_circle_2.pdf')"
   ]
  },
  {
   "cell_type": "code",
   "execution_count": null,
   "metadata": {},
   "outputs": [],
   "source": []
  }
 ],
 "metadata": {
  "kernelspec": {
   "display_name": "Python 3",
   "language": "python",
   "name": "python3"
  },
  "language_info": {
   "codemirror_mode": {
    "name": "ipython",
    "version": 3
   },
   "file_extension": ".py",
   "mimetype": "text/x-python",
   "name": "python",
   "nbconvert_exporter": "python",
   "pygments_lexer": "ipython3",
   "version": "3.7.4"
  }
 },
 "nbformat": 4,
 "nbformat_minor": 4
}
